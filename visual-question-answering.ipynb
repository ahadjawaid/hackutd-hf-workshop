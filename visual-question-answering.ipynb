{
 "cells": [
  {
   "cell_type": "markdown",
   "id": "48f8a162",
   "metadata": {},
   "source": [
    "[Model Link](https://huggingface.co/dandelin/vilt-b32-finetuned-vqa)"
   ]
  },
  {
   "cell_type": "markdown",
   "id": "1d60d718",
   "metadata": {},
   "source": [
    "## Downloading Dependencies"
   ]
  },
  {
   "cell_type": "code",
   "execution_count": null,
   "id": "806d53ba",
   "metadata": {},
   "outputs": [],
   "source": [
    "!pip install --upgrade transformers"
   ]
  },
  {
   "cell_type": "markdown",
   "id": "207d5c01",
   "metadata": {},
   "source": [
    "# Using Hugging Face Model"
   ]
  },
  {
   "cell_type": "code",
   "execution_count": null,
   "id": "ae4b152b",
   "metadata": {},
   "outputs": [
    {
     "data": {
      "application/vnd.jupyter.widget-view+json": {
       "model_id": "5335008220ef414c9a82dee113ec3c33",
       "version_major": 2,
       "version_minor": 0
      },
      "text/plain": [
       "VBox(children=(HTML(value='<center> <img\\nsrc=https://huggingface.co/front/assets/huggingface_logo-noborder.sv…"
      ]
     },
     "metadata": {},
     "output_type": "display_data"
    }
   ],
   "source": [
    "from huggingface_hub import notebook_login\n",
    "\n",
    "notebook_login()"
   ]
  },
  {
   "cell_type": "markdown",
   "id": "00f4acec",
   "metadata": {},
   "source": [
    "## Using Pipeline"
   ]
  },
  {
   "cell_type": "code",
   "execution_count": null,
   "id": "4077659d",
   "metadata": {},
   "outputs": [],
   "source": [
    "# Use a pipeline as a high-level helper\n",
    "from transformers import pipeline\n",
    "\n",
    "pipe = pipeline(\"visual-question-answering\", model=\"dandelin/vilt-b32-finetuned-vqa\")"
   ]
  },
  {
   "cell_type": "code",
   "execution_count": null,
   "id": "b9a85548",
   "metadata": {},
   "outputs": [],
   "source": [
    "from PIL import Image\n",
    "\n",
    "image_path = \"./person.jpg\"\n",
    "image = Image.open(image_path)\n",
    "text = \"What color shirt is the person wearing?\""
   ]
  },
  {
   "cell_type": "code",
   "execution_count": null,
   "id": "cb3c0001",
   "metadata": {},
   "outputs": [],
   "source": [
    "out = pipe(image, text)"
   ]
  },
  {
   "cell_type": "code",
   "execution_count": null,
   "id": "6ea40e93",
   "metadata": {},
   "outputs": [
    {
     "data": {
      "text/plain": [
       "[{'score': 0.9601157307624817, 'answer': 'blue'},\n",
       " {'score': 0.5611773729324341, 'answer': 'black'},\n",
       " {'score': 0.09129240363836288, 'answer': 'navy'},\n",
       " {'score': 0.02366543561220169, 'answer': 'gray'},\n",
       " {'score': 0.0042873346246778965, 'answer': 'purple'}]"
      ]
     },
     "execution_count": null,
     "metadata": {},
     "output_type": "execute_result"
    }
   ],
   "source": [
    "out"
   ]
  },
  {
   "cell_type": "markdown",
   "id": "7f853fe5",
   "metadata": {},
   "source": [
    "## Using Model"
   ]
  },
  {
   "cell_type": "code",
   "execution_count": null,
   "id": "dbb6cf80",
   "metadata": {},
   "outputs": [],
   "source": [
    "# Load model directly\n",
    "from transformers import ViltProcessor, ViltForQuestionAnswering\n",
    "\n",
    "processor = ViltProcessor.from_pretrained(\"dandelin/vilt-b32-finetuned-vqa\")\n",
    "model = ViltForQuestionAnswering.from_pretrained(\"dandelin/vilt-b32-finetuned-vqa\")"
   ]
  },
  {
   "cell_type": "code",
   "execution_count": null,
   "id": "bf9daa82",
   "metadata": {},
   "outputs": [],
   "source": [
    "from PIL import Image\n",
    "\n",
    "image_path = \"./person.jpg\"\n",
    "image = Image.open(image_path)\n",
    "text = \"What color shirt is the person wearing?\""
   ]
  },
  {
   "cell_type": "code",
   "execution_count": null,
   "id": "4d664459",
   "metadata": {},
   "outputs": [],
   "source": [
    "encoding = processor(image, text, return_tensors=\"pt\")"
   ]
  },
  {
   "cell_type": "code",
   "execution_count": null,
   "id": "2487a314",
   "metadata": {},
   "outputs": [],
   "source": [
    "outputs = model(**encoding)"
   ]
  },
  {
   "cell_type": "code",
   "execution_count": null,
   "id": "196396e3",
   "metadata": {},
   "outputs": [],
   "source": [
    "sorted_indexs = outputs.logits.argsort(dim=-1, descending=True)[0].tolist()\n",
    "\n",
    "top_5_predicition = list(map(lambda index: model.config.id2label[index], sorted_indexs))[:5]"
   ]
  },
  {
   "cell_type": "code",
   "execution_count": null,
   "id": "ad7a3483",
   "metadata": {},
   "outputs": [
    {
     "data": {
      "text/plain": [
       "['blue', 'black', 'navy', 'gray', 'purple']"
      ]
     },
     "execution_count": null,
     "metadata": {},
     "output_type": "execute_result"
    }
   ],
   "source": [
    "top_5_predicition"
   ]
  }
 ],
 "metadata": {
  "kernelspec": {
   "display_name": "python3",
   "language": "python",
   "name": "python3"
  }
 },
 "nbformat": 4,
 "nbformat_minor": 5
}
